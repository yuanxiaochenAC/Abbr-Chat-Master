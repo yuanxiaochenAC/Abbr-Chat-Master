{
 "cells": [
  {
   "cell_type": "code",
   "execution_count": 4,
   "id": "665ed8e7",
   "metadata": {},
   "outputs": [],
   "source": [
    "import os\n",
    "import pandas as pd\n",
    "from openai import OpenAI\n",
    "\n",
    "client = OpenAI(\n",
    "    api_key=os.environ.get(\"OPEN_API_KEY\"),\n",
    ")\n",
    "\n",
    "def ask_chatgpt(prompt, model=\"gpt-4\", max_tokens=100, temperature=0.7):\n",
    "    completion = client.chat.completions.create(\n",
    "        model=model,\n",
    "        messages=[\n",
    "            {\"role\": \"system\", \"content\": \"You are a helpful assistant.\"},\n",
    "            {\"role\": \"user\", \"content\": prompt}\n",
    "        ],\n",
    "        max_tokens=max_tokens,\n",
    "        temperature=temperature,\n",
    "    )\n",
    "    return completion.choices[0].message.content\n",
    "\n",
    "def summarize_questions(input_file, output_file, instruction_file):\n",
    "    with open(instruction_file, 'r') as file:\n",
    "        instruction = file.read().strip()\n",
    "\n",
    "    df = pd.read_excel(input_file)\n",
    "    summaries = []\n",
    "\n",
    "    for question in df['var_explanation']:\n",
    "        prompt = f\"{instruction}\\n{question}\"\n",
    "        summary = ask_chatgpt(prompt)\n",
    "        summaries.append(summary)\n",
    "    \n",
    "    df['var_short'] = summaries\n",
    "    df.to_excel(output_file, index=False)\n",
    "\n",
    "if __name__ == \"__main__\":\n",
    "    input_file = \"C:/Users/yuanchen/RA2/data.xlsx\"\n",
    "    output_file = \"C:/Users/yuanchen/RA2/summarized_data.xlsx\"\n",
    "    instruction_file = \"C:/Users/yuanchen/RA2/instruction.txt\"\n",
    "    summarize_questions(input_file, output_file, instruction_file)"
   ]
  },
  {
   "cell_type": "code",
   "execution_count": null,
   "id": "c27d0227",
   "metadata": {},
   "outputs": [],
   "source": []
  }
 ],
 "metadata": {
  "kernelspec": {
   "display_name": "Python 3 (ipykernel)",
   "language": "python",
   "name": "python3"
  },
  "language_info": {
   "codemirror_mode": {
    "name": "ipython",
    "version": 3
   },
   "file_extension": ".py",
   "mimetype": "text/x-python",
   "name": "python",
   "nbconvert_exporter": "python",
   "pygments_lexer": "ipython3",
   "version": "3.11.4"
  }
 },
 "nbformat": 4,
 "nbformat_minor": 5
}
