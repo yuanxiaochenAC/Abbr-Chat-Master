{
 "cells": [
  {
   "cell_type": "code",
   "execution_count": 1,
   "id": "87ff4343",
   "metadata": {},
   "outputs": [
    {
     "name": "stdout",
     "output_type": "stream",
     "text": [
      "done\n"
     ]
    }
   ],
   "source": [
    "import pandas as pd\n",
    "\n",
    "# 读取数据\n",
    "df = pd.read_excel('explain.xlsx', header=None)\n",
    "\n",
    "# 获取所有句子\n",
    "sentences = df[0].tolist()\n",
    "\n",
    "# 将所有句子拆分为单词，并去重\n",
    "words = set()\n",
    "for sentence in sentences:\n",
    "    words.update(sentence.split())\n",
    "\n",
    "# 分离大写简称和常规单词\n",
    "abbreviations = {word for word in words if word.isupper()}\n",
    "regular_words = words - abbreviations\n",
    "\n",
    "# 分别排序大写简称和常规单词\n",
    "sorted_abbreviations = sorted(abbreviations)\n",
    "sorted_regular_words = sorted(regular_words)\n",
    "\n",
    "# 合并排序后的单词列表\n",
    "sorted_words = sorted_abbreviations + sorted_regular_words\n",
    "\n",
    "# 将单词列表转换为DataFrame\n",
    "words_df = pd.DataFrame(sorted_words, columns=['Words'])\n",
    "\n",
    "# 将结果保存到新的Excel文件中\n",
    "words_df.to_excel('sorted_words_list.xlsx', index=False)\n",
    "\n",
    "print('done')\n"
   ]
  },
  {
   "cell_type": "code",
   "execution_count": 2,
   "id": "bd66566c",
   "metadata": {},
   "outputs": [
    {
     "name": "stdout",
     "output_type": "stream",
     "text": [
      "done\n"
     ]
    }
   ],
   "source": [
    "import pandas as pd\n",
    "from collections import Counter\n",
    "\n",
    "# 读取数据\n",
    "df = pd.read_excel('explain.xlsx', header=None)\n",
    "\n",
    "# 获取所有句子\n",
    "sentences = df[0].tolist()\n",
    "\n",
    "# 将所有句子拆分为单词列表\n",
    "all_words = []\n",
    "for sentence in sentences:\n",
    "    all_words.extend(sentence.split())\n",
    "\n",
    "# 计算每个单词的出现次数\n",
    "word_counts = Counter(all_words)\n",
    "\n",
    "# 分离大写简称和常规单词\n",
    "abbreviations = {word for word in word_counts if word.isupper()}\n",
    "regular_words = {word for word in word_counts if not word.isupper()}\n",
    "\n",
    "# 分别排序大写简称和常规单词\n",
    "sorted_abbreviations = sorted(abbreviations)\n",
    "sorted_regular_words = sorted(regular_words)\n",
    "\n",
    "# 合并排序后的单词列表\n",
    "sorted_words = sorted_abbreviations + sorted_regular_words\n",
    "\n",
    "# 创建单词和频数的列表\n",
    "words_freq = [(word, word_counts[word]) for word in sorted_words]\n",
    "\n",
    "# 将单词列表转换为DataFrame\n",
    "words_df = pd.DataFrame(words_freq, columns=['Words', 'Frequency'])\n",
    "\n",
    "# 将结果保存到新的Excel文件中\n",
    "words_df.to_excel('sorted_words_frequency_list.xlsx', index=False)\n",
    "\n",
    "print('done')\n"
   ]
  },
  {
   "cell_type": "code",
   "execution_count": 6,
   "id": "e10339bd",
   "metadata": {},
   "outputs": [
    {
     "name": "stdout",
     "output_type": "stream",
     "text": [
      "done\n"
     ]
    }
   ],
   "source": [
    "import pandas as pd\n",
    "from collections import Counter\n",
    "from spellchecker import SpellChecker\n",
    "\n",
    "# 读取数据\n",
    "df = pd.read_excel('explain.xlsx', header=None)\n",
    "\n",
    "# 获取所有句子\n",
    "sentences = df[0].tolist()\n",
    "\n",
    "# 将所有句子拆分为单词，并统计频数\n",
    "words_counter = Counter()\n",
    "for sentence in sentences:\n",
    "    words_counter.update(sentence.split())\n",
    "\n",
    "# 分离大写简称和常规单词\n",
    "abbreviations = {word for word in words_counter if word.isupper()}\n",
    "regular_words = set(words_counter) - abbreviations\n",
    "\n",
    "# 检测常规单词的拼写错误\n",
    "spell = SpellChecker()\n",
    "misspelled = spell.unknown(regular_words)\n",
    "\n",
    "# 分别排序大写简称和常规单词\n",
    "sorted_abbreviations = sorted(abbreviations)\n",
    "sorted_regular_words = sorted(regular_words)\n",
    "\n",
    "# 合并排序后的单词列表\n",
    "sorted_words = sorted_abbreviations + sorted_regular_words\n",
    "\n",
    "# 创建单词、频数和拼写错误标记的列表\n",
    "words_data = []\n",
    "for word in sorted_words:\n",
    "    count = words_counter[word]\n",
    "    is_misspelled = 'Yes' if word in misspelled else 'No'\n",
    "    words_data.append([word, count, is_misspelled])\n",
    "\n",
    "# 将单词列表转换为DataFrame\n",
    "words_df = pd.DataFrame(words_data, columns=['Words', 'Frequency', 'Misspelled'])\n",
    "\n",
    "# 将结果保存到新的Excel文件中\n",
    "words_df.to_excel('sorted_words_list_with_frequency.xlsx', index=False)\n",
    "\n",
    "print('done')\n"
   ]
  },
  {
   "cell_type": "code",
   "execution_count": 5,
   "id": "dd3ad44e",
   "metadata": {},
   "outputs": [
    {
     "name": "stdout",
     "output_type": "stream",
     "text": [
      "Defaulting to user installation because normal site-packages is not writeable\n",
      "Collecting pyspellchecker\n",
      "  Obtaining dependency information for pyspellchecker from https://files.pythonhosted.org/packages/e1/d2/c7e3b3a61a34b9320399fa731d1f9f0c73db8a1f28c6764e9e11efa68a29/pyspellchecker-0.8.1-py3-none-any.whl.metadata\n",
      "  Downloading pyspellchecker-0.8.1-py3-none-any.whl.metadata (9.4 kB)\n",
      "Downloading pyspellchecker-0.8.1-py3-none-any.whl (6.8 MB)\n",
      "   ---------------------------------------- 0.0/6.8 MB ? eta -:--:--\n",
      "   -- ------------------------------------- 0.4/6.8 MB 8.1 MB/s eta 0:00:01\n",
      "   -- ------------------------------------- 0.5/6.8 MB 10.0 MB/s eta 0:00:01\n",
      "   --- ------------------------------------ 0.6/6.8 MB 4.7 MB/s eta 0:00:02\n",
      "   ----- ---------------------------------- 1.0/6.8 MB 6.2 MB/s eta 0:00:01\n",
      "   -------- ------------------------------- 1.4/6.8 MB 6.9 MB/s eta 0:00:01\n",
      "   ---------- ----------------------------- 1.8/6.8 MB 7.8 MB/s eta 0:00:01\n",
      "   -------------- ------------------------- 2.4/6.8 MB 8.5 MB/s eta 0:00:01\n",
      "   ---------------- ----------------------- 2.9/6.8 MB 8.3 MB/s eta 0:00:01\n",
      "   -------------------- ------------------- 3.4/6.8 MB 8.8 MB/s eta 0:00:01\n",
      "   ----------------------- ---------------- 4.0/6.8 MB 9.1 MB/s eta 0:00:01\n",
      "   -------------------------- ------------- 4.4/6.8 MB 9.1 MB/s eta 0:00:01\n",
      "   ---------------------------- ----------- 4.9/6.8 MB 9.4 MB/s eta 0:00:01\n",
      "   ------------------------------ --------- 5.2/6.8 MB 9.3 MB/s eta 0:00:01\n",
      "   --------------------------------- ------ 5.7/6.8 MB 9.6 MB/s eta 0:00:01\n",
      "   ----------------------------------- ---- 6.1/6.8 MB 9.5 MB/s eta 0:00:01\n",
      "   -------------------------------------- - 6.4/6.8 MB 9.6 MB/s eta 0:00:01\n",
      "   ---------------------------------------  6.8/6.8 MB 9.4 MB/s eta 0:00:01\n",
      "   ---------------------------------------- 6.8/6.8 MB 9.2 MB/s eta 0:00:00\n",
      "Installing collected packages: pyspellchecker\n",
      "Successfully installed pyspellchecker-0.8.1\n"
     ]
    }
   ],
   "source": [
    "!pip install pyspellchecker"
   ]
  },
  {
   "cell_type": "code",
   "execution_count": null,
   "id": "88b2f3c7",
   "metadata": {},
   "outputs": [],
   "source": []
  }
 ],
 "metadata": {
  "kernelspec": {
   "display_name": "Python 3 (ipykernel)",
   "language": "python",
   "name": "python3"
  },
  "language_info": {
   "codemirror_mode": {
    "name": "ipython",
    "version": 3
   },
   "file_extension": ".py",
   "mimetype": "text/x-python",
   "name": "python",
   "nbconvert_exporter": "python",
   "pygments_lexer": "ipython3",
   "version": "3.11.4"
  }
 },
 "nbformat": 4,
 "nbformat_minor": 5
}
